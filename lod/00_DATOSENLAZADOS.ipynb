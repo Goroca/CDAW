{
 "cells": [
  {
   "cell_type": "markdown",
   "source": [
    "# Entrega Datos enlazados"
   ],
   "metadata": {
    "collapsed": false,
    "pycharm": {
     "name": "#%% md\n"
    }
   }
  },
  {
   "cell_type": "code",
   "execution_count": 1,
   "outputs": [
    {
     "data": {
      "application/javascript": "IPython.CodeCell.options_default.highlight_modes['magic_sparql'] = {'reg':[/^%%sparql/]};"
     },
     "metadata": {},
     "output_type": "display_data"
    }
   ],
   "source": [
    "from lod.helpers import sparql"
   ],
   "metadata": {
    "collapsed": false,
    "pycharm": {
     "name": "#%%\n"
    }
   }
  },
  {
   "cell_type": "markdown",
   "source": [
    "## 1 - Información de un Nodo principal"
   ],
   "metadata": {
    "collapsed": false,
    "pycharm": {
     "name": "#%% md\n"
    }
   }
  },
  {
   "cell_type": "code",
   "execution_count": 2,
   "outputs": [
    {
     "data": {
      "text/plain": "<IPython.core.display.HTML object>",
      "text/html": "<table><thead><tr><th>person</th><tr></thead><tbody><tr><td>http://dbpedia.org/resource/Tarantino</td></tr></tbody></table>"
     },
     "execution_count": 2,
     "metadata": {},
     "output_type": "execute_result"
    }
   ],
   "source": [
    "%%sparql https://live.dbpedia.org/sparql\n",
    "\n",
    "SELECT *\n",
    "WHERE\n",
    "     {\n",
    "        ?person rdfs:label \"Tarantino\"@en\n",
    "     }"
   ],
   "metadata": {
    "collapsed": false,
    "pycharm": {
     "name": "#%%\n"
    }
   }
  },
  {
   "cell_type": "markdown",
   "source": [
    "## 2 - Peliculas en las que han participado The Wachowskis"
   ],
   "metadata": {
    "collapsed": false,
    "pycharm": {
     "name": "#%% md\n"
    }
   }
  },
  {
   "cell_type": "code",
   "execution_count": 3,
   "outputs": [
    {
     "data": {
      "text/plain": "<IPython.core.display.HTML object>",
      "text/html": "<table><thead><tr><th>TrabajosRelevantes</th><th>Puesto</th><tr></thead><tbody><tr><td>Speed Racer</td><td>Guionista</td></tr><tr><td>V for Vendetta</td><td>Guionista</td></tr><tr><td></td><td>Guionista</td></tr><tr><td>Bound</td><td>Guionista</td></tr><tr><td>Cloud Atlas</td><td>Guionista</td></tr><tr><td>Sense8</td><td>Guionista</td></tr><tr><td>Jupiter Ascending</td><td>Guionista</td></tr><tr><td>The Matrix series</td><td>Guionista</td></tr></tbody></table>"
     },
     "execution_count": 3,
     "metadata": {},
     "output_type": "execute_result"
    }
   ],
   "source": [
    "%%sparql https://dbpedia.org/sparql\n",
    "\n",
    "PREFIX dbo: <http://dbpedia.org/ontology/>\n",
    "PREFIX dbp: <http://dbpedia.org/property/>\n",
    "\n",
    "SELECT ?TrabajosRelevantes ?Puesto\n",
    "WHERE\n",
    "     {\n",
    "        ?person rdfs:label \"The Wachowskis\"@en ;\n",
    "                 dbp:name ?Nombre ;\n",
    "                 dbp:notableWorks ?TrabajosRelevantes ;\n",
    "                 dbo:occupation ?occupation .\n",
    "        ?occupation rdf:type dbo:PersonFunction ;\n",
    "                    rdfs:label ?Puesto\n",
    "         FILTER ( LANG ( ?Puesto ) = 'es' )\n",
    "\n",
    "     }"
   ],
   "metadata": {
    "collapsed": false,
    "pycharm": {
     "name": "#%%\n"
    }
   }
  },
  {
   "cell_type": "markdown",
   "source": [
    "## 3 - Peliculas en las que han participado The Wachowskis pero solo como directoras"
   ],
   "metadata": {
    "collapsed": false,
    "pycharm": {
     "name": "#%% md\n"
    }
   }
  },
  {
   "cell_type": "code",
   "execution_count": 4,
   "outputs": [
    {
     "data": {
      "text/plain": "<IPython.core.display.HTML object>",
      "text/html": "<table><thead><tr><th>Work</th><tr></thead><tbody><tr><td>Cloud Atlas</td></tr><tr><td>Bound</td></tr><tr><td>Enter The Matrix: Original Soundtrack From The Videogame</td></tr><tr><td>The Matrix Reloaded</td></tr><tr><td>The Matrix Revolutions</td></tr><tr><td>The Matrix Resurrections</td></tr><tr><td>The Matrix</td></tr><tr><td>Jupiter Ascending</td></tr><tr><td>Sense8</td></tr><tr><td>Speed Racer</td></tr></tbody></table>"
     },
     "execution_count": 4,
     "metadata": {},
     "output_type": "execute_result"
    }
   ],
   "source": [
    "%%sparql https://dbpedia.org/sparql\n",
    "\n",
    "PREFIX dbo: <http://dbpedia.org/ontology/>\n",
    "PREFIX dbp: <http://dbpedia.org/property/>\n",
    "\n",
    "SELECT ?Work\n",
    "WHERE\n",
    "     {\n",
    "        ?movie a dbo:Work ;\n",
    "                  dbo:director dbr:The_Wachowskis ;\n",
    "                  dbp:name ?Work .\n",
    "     }"
   ],
   "metadata": {
    "collapsed": false,
    "pycharm": {
     "name": "#%%\n"
    }
   }
  },
  {
   "cell_type": "markdown",
   "source": [
    "## 4 - Lugares donde se hablan más idiomas"
   ],
   "metadata": {
    "collapsed": false,
    "pycharm": {
     "name": "#%% md\n"
    }
   }
  },
  {
   "cell_type": "code",
   "execution_count": 5,
   "outputs": [
    {
     "data": {
      "text/plain": "<IPython.core.display.HTML object>",
      "text/html": "<table><thead><tr><th>country</th><th>number</th><th>callret-2</th><tr></thead><tbody><tr><td>http://dbpedia.org/resource/Southeast_Asia</td><td></td><td>80</td></tr><tr><td>http://dbpedia.org/resource/South_Asia</td><td></td><td>69</td></tr><tr><td>http://dbpedia.org/resource/Middle_East</td><td></td><td>59</td></tr><tr><td>http://dbpedia.org/resource/Caribbean_Community</td><td></td><td>54</td></tr><tr><td>http://dbpedia.org/resource/Nigeria</td><td></td><td>47</td></tr><tr><td>http://dbpedia.org/resource/Benin</td><td></td><td>39</td></tr><tr><td>http://dbpedia.org/resource/Oceania</td><td></td><td>30</td></tr><tr><td>http://dbpedia.org/resource/Autonomous_Region_of_Bougainville</td><td></td><td>29</td></tr><tr><td>http://dbpedia.org/resource/Indian_people</td><td></td><td>27</td></tr><tr><td>http://dbpedia.org/resource/Guinea</td><td></td><td>26</td></tr></tbody></table>"
     },
     "execution_count": 5,
     "metadata": {},
     "output_type": "execute_result"
    }
   ],
   "source": [
    "%%sparql https://dbpedia.org/sparql\n",
    "\n",
    "PREFIX dbo: <http://dbpedia.org/ontology/>\n",
    "\n",
    "SELECT ?country ?number count(?language) WHERE {\n",
    "    ?country rdf:type dbo:Country  .\n",
    "    ?country dbo:language ?language .\n",
    "}\n",
    "ORDER BY DESC(count(?language)) LIMIT 10"
   ],
   "metadata": {
    "collapsed": false,
    "pycharm": {
     "name": "#%%\n"
    }
   }
  },
  {
   "cell_type": "markdown",
   "source": [
    "## 5 - Vamos a obtener cantentes de rock y la banda a la que pertenecieron"
   ],
   "metadata": {
    "collapsed": false,
    "pycharm": {
     "name": "#%% md\n"
    }
   }
  },
  {
   "cell_type": "code",
   "execution_count": 6,
   "outputs": [
    {
     "data": {
      "text/plain": "<IPython.core.display.HTML object>",
      "text/html": "<table><thead><tr><th>name</th><th>bandname</th><tr></thead><tbody><tr><td>Aistė Smilgevičiūtė</td><td>Skylė</td></tr><tr><td>Brad McNamara</td><td>Six & Out</td></tr><tr><td>Bradley Edward McNamara</td><td>Six & Out</td></tr><tr><td>Cass Browne</td><td>Delakota</td></tr><tr><td>Fran Smith Jr.</td><td>The Hooters</td></tr><tr><td>Carwyn Ellis</td><td>Pretenders</td></tr><tr><td>Crystal Taliefero</td><td>Billy Joel Band</td></tr><tr><td>Jeff Pevar</td><td>Jazz Is Dead</td></tr><tr><td>Joby Harris</td><td>Crash Rickshaw</td></tr><tr><td>Jon Gregory</td><td>The Islanders</td></tr></tbody></table>"
     },
     "execution_count": 6,
     "metadata": {},
     "output_type": "execute_result"
    }
   ],
   "source": [
    "%%sparql https://dbpedia.org/sparql\n",
    "\n",
    "PREFIX dbo: <http://dbpedia.org/ontology/>\n",
    "PREFIX dbp: <http://dbpedia.org/resource/>\n",
    "PREFIX foaf: <http://xmlns.com/foaf/0.1/>\n",
    "\n",
    "SELECT ?name ?bandname where {\n",
    "   ?person foaf:name ?name .\n",
    "   ?band dbo:bandMember ?person .\n",
    "   ?band dbo:genre dbp:Rock_music .\n",
    "   ?band foaf:name ?bandname .\n",
    "}\n",
    "\n",
    "LIMIT 10"
   ],
   "metadata": {
    "collapsed": false,
    "pycharm": {
     "name": "#%%\n"
    }
   }
  },
  {
   "cell_type": "markdown",
   "source": [
    "## Bibliografía\n",
    "1. https://dbpedia.org/ontology/Film\n",
    "2. https://es.dbpedia.org/wiki/Wiki.jsp?page=Ejemplos%20de%20consultas%20SPARQL"
   ],
   "metadata": {
    "collapsed": false,
    "pycharm": {
     "name": "#%% md\n"
    }
   }
  }
 ],
 "metadata": {
  "kernelspec": {
   "display_name": "Python 3",
   "language": "python",
   "name": "python3"
  },
  "language_info": {
   "codemirror_mode": {
    "name": "ipython",
    "version": 2
   },
   "file_extension": ".py",
   "mimetype": "text/x-python",
   "name": "python",
   "nbconvert_exporter": "python",
   "pygments_lexer": "ipython2",
   "version": "2.7.6"
  }
 },
 "nbformat": 4,
 "nbformat_minor": 0
}
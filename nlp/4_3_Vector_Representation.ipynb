{
 "cells": [
  {
   "cell_type": "markdown",
   "metadata": {},
   "source": [
    "![](images/EscUpmPolit_p.gif \"UPM\")"
   ]
  },
  {
   "cell_type": "markdown",
   "metadata": {},
   "source": [
    "# Course Notes for Learning Intelligent Systems"
   ]
  },
  {
   "cell_type": "markdown",
   "metadata": {},
   "source": [
    "Department of Telematic Engineering Systems, Universidad Politécnica de Madrid, © Carlos A. Iglesias"
   ]
  },
  {
   "cell_type": "markdown",
   "metadata": {},
   "source": [
    "# Vector Representation"
   ]
  },
  {
   "cell_type": "markdown",
   "metadata": {},
   "source": [
    "# Table of Contents\n",
    "* [Objectives](#Objectives)\n",
    "* [Tools](#Tools)\n",
    "* [Vector representation: Count vector](#Vector-representation:-Count-vector)\n",
    "* [Binary vectors](#Binary-vectors)\n",
    "* [Bigram vectors](#Bigram-vectors)\n",
    "* [Tf-idf vector representation](#Tf-idf-vector-representation)"
   ]
  },
  {
   "cell_type": "markdown",
   "metadata": {},
   "source": [
    "# Objectives"
   ]
  },
  {
   "cell_type": "markdown",
   "metadata": {},
   "source": [
    "In this notebook we are going to transform text into feature vectors, using several representations as presented in class.\n",
    "\n",
    "We are going to use the examples from the slides."
   ]
  },
  {
   "cell_type": "code",
   "execution_count": 1,
   "metadata": {},
   "outputs": [],
   "source": [
    "doc1 = 'Summer is coming but Summer is short'\n",
    "doc2 = 'I like the Summer and I like the Winter'\n",
    "doc3 = 'I like sandwiches and I like the Winter'\n",
    "documents = [doc1, doc2, doc3]"
   ]
  },
  {
   "cell_type": "markdown",
   "metadata": {},
   "source": [
    "# Tools"
   ]
  },
  {
   "cell_type": "markdown",
   "metadata": {},
   "source": [
    "The different tools we have presented so far (NLTK, Scikit-Learn, TextBlob and CLiPS) provide overlapping functionalities for obtaining vector representations and apply machine learning algorithms.\n",
    "\n",
    "We are going to focus on the use of scikit-learn so that we can also use easily Pandas as we saw in the previous topic.\n",
    "\n",
    "Scikit-learn provides specific facililities for processing texts, as described in the [manual](http://scikit-learn.org/stable/modules/feature_extraction.html)."
   ]
  },
  {
   "cell_type": "markdown",
   "metadata": {},
   "source": [
    "# Vector representation: Count vector"
   ]
  },
  {
   "cell_type": "markdown",
   "metadata": {},
   "source": [
    "Scikit-learn provides two classes for binary vectors: [CountVectorizer](http://scikit-learn.org/stable/modules/generated/sklearn.feature_extraction.text.CountVectorizer.html#sklearn.feature_extraction.text.CountVectorizer) and [HashingVectorizer](http://scikit-learn.org/stable/modules/generated/sklearn.feature_extraction.text.HashingVectorizer.html). The latter is more efficient but does not allow to understand which features are more important, so we use the first class. Nevertheless, they are compatible, so, they can be interchanged for production environments.\n",
    "\n",
    "The first step for vectorizing with scikit-learn is creating a CountVectorizer object and then we should call 'fit_transform' to fit the vocabulary."
   ]
  },
  {
   "cell_type": "code",
   "execution_count": 2,
   "metadata": {},
   "outputs": [
    {
     "data": {
      "text/plain": [
       "CountVectorizer(max_features=5000)"
      ]
     },
     "execution_count": 2,
     "metadata": {},
     "output_type": "execute_result"
    }
   ],
   "source": [
    "from sklearn.feature_extraction.text import CountVectorizer\n",
    "\n",
    "vectorizer = CountVectorizer(analyzer = \"word\", max_features = 5000) \n",
    "vectorizer"
   ]
  },
  {
   "cell_type": "markdown",
   "metadata": {},
   "source": [
    "As we can see, [CountVectorizer](http://scikit-learn.org/stable/modules/generated/sklearn.feature_extraction.text.CountVectorizer.html#sklearn.feature_extraction.text.CountVectorizer) comes with many options. We can define many configuration options, such as the maximum or minimum frequency of a term (*min_fd*, *max_df*), maximum number of features (*max_features*), if we analyze words or characters (*analyzer*), or if the output is binary or not (*binary*). *CountVectorizer* also allows us to include if we want to preprocess the input (*preprocessor*) before tokenizing it (*tokenizer*) and exclude stop words (*stop_words*).\n",
    "\n",
    "We can use NLTK preprocessing and tokenizer functions to tune *CountVectorizer* using these parameters.\n",
    "\n",
    "We are going to see how the vectors look like."
   ]
  },
  {
   "cell_type": "code",
   "execution_count": 3,
   "metadata": {},
   "outputs": [
    {
     "data": {
      "text/plain": [
       "<3x10 sparse matrix of type '<class 'numpy.int64'>'\n",
       "\twith 15 stored elements in Compressed Sparse Row format>"
      ]
     },
     "execution_count": 3,
     "metadata": {},
     "output_type": "execute_result"
    }
   ],
   "source": [
    "vectors = vectorizer.fit_transform(documents)\n",
    "vectors"
   ]
  },
  {
   "cell_type": "markdown",
   "metadata": {},
   "source": [
    "We see the vectors are stored as a sparse matrix of 3x6 dimensions.\n",
    "We can print the matrix as well as the feature names."
   ]
  },
  {
   "cell_type": "code",
   "execution_count": 4,
   "metadata": {},
   "outputs": [
    {
     "name": "stdout",
     "output_type": "stream",
     "text": [
      "[[0 1 1 2 0 0 1 2 0 0]\n",
      " [1 0 0 0 2 0 0 1 2 1]\n",
      " [1 0 0 0 2 1 0 0 1 1]]\n",
      "['and', 'but', 'coming', 'is', 'like', 'sandwiches', 'short', 'summer', 'the', 'winter']\n"
     ]
    }
   ],
   "source": [
    "print(vectors.toarray())\n",
    "print(vectorizer.get_feature_names())"
   ]
  },
  {
   "cell_type": "markdown",
   "metadata": {},
   "source": [
    "As you can see, the pronoun 'I' has been removed because of the default token_pattern. \n",
    "We can change this as follows."
   ]
  },
  {
   "cell_type": "code",
   "execution_count": 5,
   "metadata": {},
   "outputs": [
    {
     "data": {
      "text/plain": [
       "['and',\n",
       " 'but',\n",
       " 'coming',\n",
       " 'i',\n",
       " 'is',\n",
       " 'like',\n",
       " 'sandwiches',\n",
       " 'short',\n",
       " 'summer',\n",
       " 'the',\n",
       " 'winter']"
      ]
     },
     "execution_count": 5,
     "metadata": {},
     "output_type": "execute_result"
    }
   ],
   "source": [
    "vectorizer = CountVectorizer(analyzer=\"word\", stop_words=None, token_pattern='(?u)\\\\b\\\\w+\\\\b') \n",
    "vectors = vectorizer.fit_transform(documents)\n",
    "vectorizer.get_feature_names()"
   ]
  },
  {
   "cell_type": "markdown",
   "metadata": {},
   "source": [
    "We can now filter the stop words (it will remove 'and', 'but', 'I', 'is' and 'the')."
   ]
  },
  {
   "cell_type": "code",
   "execution_count": 6,
   "metadata": {},
   "outputs": [
    {
     "data": {
      "text/plain": [
       "['coming', 'like', 'sandwiches', 'short', 'summer', 'winter']"
      ]
     },
     "execution_count": 6,
     "metadata": {},
     "output_type": "execute_result"
    }
   ],
   "source": [
    "vectorizer = CountVectorizer(analyzer=\"word\", stop_words='english', token_pattern='(?u)\\\\b\\\\w+\\\\b') \n",
    "vectors = vectorizer.fit_transform(documents)\n",
    "vectorizer.get_feature_names()"
   ]
  },
  {
   "cell_type": "code",
   "execution_count": 7,
   "metadata": {},
   "outputs": [
    {
     "name": "stdout",
     "output_type": "stream",
     "text": [
      "frozenset({'system', 'so', 'top', 'below', 'everyone', 'we', 'each', 'thin', 'behind', 'both', 'though', 'without', 'either', 'not', 'formerly', 'interest', 'since', 'himself', 'nobody', 'seem', 'see', 'if', 'off', 'in', 'moreover', 'by', 'could', 'mill', 'something', 'thus', 'whole', 'whose', 'least', 'two', 'within', 'for', 'enough', 'became', 'hereafter', 'part', 'anyone', 'get', 'back', 'be', 'beyond', 'down', 'mine', 'perhaps', 'they', 'ourselves', 'anything', 'through', 'us', 'have', 'than', 'empty', 'become', 'few', 'how', 'name', 'being', 'is', 'upon', 'fifteen', 'it', 're', 'namely', 'as', 'might', 'out', 'ten', 'anyway', 'my', 'only', 'under', 'beside', 'fill', 'thereafter', 'to', 'toward', 'twelve', 'you', 'whereas', 'anyhow', 'onto', 'him', 'such', 'besides', 'this', 'your', 'also', 'except', 'therein', 'done', 'into', 'three', 'whereby', 'yourselves', 'was', 'yet', 'less', 'becomes', 'with', 'towards', 'hers', 'too', 'around', 'several', 'before', 'can', 'full', 'nothing', 'front', 'of', 'but', 'there', 'never', 'anywhere', 'after', 'between', 'bill', 'find', 'next', 'give', 'herself', 'neither', 'over', 'am', 'somewhere', 'then', 'which', 'would', 'else', 'most', 'ltd', 'or', 'some', 'and', 'four', 'much', 'although', 'whenever', 'cannot', 'noone', 'ours', 'via', 'once', 'found', 'becoming', 'six', 'co', 'the', 'former', 'first', 'thereupon', 'yours', 'twenty', 'any', 'afterwards', 'therefore', 'above', 'please', 'last', 'sometime', 'their', 'because', 'against', 'rather', 'somehow', 'bottom', 'wherever', 'fire', 'other', 'these', 'forty', 'amoungst', 'nor', 'where', 'whither', 'fifty', 'due', 'he', 'mostly', 'do', 'throughout', 'now', 'whereafter', 'will', 'go', 'one', 'detail', 'de', 'serious', 'wherein', 'while', 'couldnt', 'whereupon', 'whoever', 'every', 'same', 'further', 'here', 'up', 'what', 'again', 'been', 'nevertheless', 'keep', 'hereby', 'among', 'hasnt', 'our', 'another', 'seems', 'thereby', 'those', 'eg', 'well', 'whom', 'me', 'meanwhile', 'ever', 'its', 'own', 'etc', 'should', 'side', 'sincere', 'third', 'her', 'cant', 'during', 'still', 'thence', 'more', 'otherwise', 'sometimes', 'whether', 'elsewhere', 'almost', 'inc', 'whatever', 'an', 'nowhere', 'along', 'always', 'his', 'thru', 'together', 'put', 'cry', 'call', 'when', 'why', 'thick', 'amongst', 'from', 'already', 'beforehand', 'across', 'i', 'sixty', 'hundred', 'who', 'five', 'are', 'none', 'until', 'very', 'she', 'on', 'others', 'con', 'no', 'often', 'alone', 'show', 'hereupon', 'describe', 'may', 'move', 'eight', 'itself', 'someone', 'yourself', 'even', 'seeming', 'nine', 'eleven', 'that', 'made', 'everywhere', 'all', 'ie', 'latterly', 'latter', 'had', 'indeed', 'hence', 'amount', 'must', 'myself', 'has', 'a', 'take', 'them', 'many', 'themselves', 'whence', 'at', 'everything', 'about', 'seemed', 'were', 'herein', 'per', 'un', 'however'})\n"
     ]
    }
   ],
   "source": [
    "#stop words in scikit-learn for English\n",
    "print(vectorizer.get_stop_words())"
   ]
  },
  {
   "cell_type": "code",
   "execution_count": 8,
   "metadata": {},
   "outputs": [
    {
     "data": {
      "text/plain": [
       "array([[1, 0, 0, 1, 2, 0],\n",
       "       [0, 2, 0, 0, 1, 1],\n",
       "       [0, 2, 1, 0, 0, 1]], dtype=int64)"
      ]
     },
     "execution_count": 8,
     "metadata": {},
     "output_type": "execute_result"
    }
   ],
   "source": [
    "# Vectors\n",
    "f_array = vectors.toarray()\n",
    "f_array"
   ]
  },
  {
   "cell_type": "markdown",
   "metadata": {},
   "source": [
    "We can compute now the **distance** between vectors."
   ]
  },
  {
   "cell_type": "code",
   "execution_count": 9,
   "metadata": {},
   "outputs": [
    {
     "name": "stdout",
     "output_type": "stream",
     "text": [
      "0.6666666666666667 1.0 0.16666666666666663\n"
     ]
    }
   ],
   "source": [
    "from scipy.spatial.distance import cosine\n",
    "d12 = cosine(f_array[0], f_array[1])\n",
    "d13 = cosine(f_array[0], f_array[2])\n",
    "d23 = cosine(f_array[1], f_array[2])\n",
    "print(d12, d13, d23)"
   ]
  },
  {
   "cell_type": "markdown",
   "metadata": {},
   "source": [
    "# Binary vectors"
   ]
  },
  {
   "cell_type": "markdown",
   "metadata": {},
   "source": [
    "We can also get **binary vectors** as follows."
   ]
  },
  {
   "cell_type": "code",
   "execution_count": 10,
   "metadata": {},
   "outputs": [
    {
     "data": {
      "text/plain": [
       "['coming', 'like', 'sandwiches', 'short', 'summer', 'winter']"
      ]
     },
     "execution_count": 10,
     "metadata": {},
     "output_type": "execute_result"
    }
   ],
   "source": [
    "vectorizer = CountVectorizer(analyzer=\"word\", stop_words='english', binary=True) \n",
    "vectors = vectorizer.fit_transform(documents)\n",
    "vectorizer.get_feature_names()"
   ]
  },
  {
   "cell_type": "code",
   "execution_count": 11,
   "metadata": {},
   "outputs": [
    {
     "data": {
      "text/plain": [
       "array([[1, 0, 0, 1, 1, 0],\n",
       "       [0, 1, 0, 0, 1, 1],\n",
       "       [0, 1, 1, 0, 0, 1]], dtype=int64)"
      ]
     },
     "execution_count": 11,
     "metadata": {},
     "output_type": "execute_result"
    }
   ],
   "source": [
    "vectors.toarray()"
   ]
  },
  {
   "cell_type": "markdown",
   "metadata": {},
   "source": [
    "# Bigram vectors"
   ]
  },
  {
   "cell_type": "markdown",
   "metadata": {},
   "source": [
    "It is also easy to get bigram vectors."
   ]
  },
  {
   "cell_type": "code",
   "execution_count": 12,
   "metadata": {},
   "outputs": [
    {
     "data": {
      "text/plain": [
       "['coming summer',\n",
       " 'like sandwiches',\n",
       " 'like summer',\n",
       " 'like winter',\n",
       " 'sandwiches like',\n",
       " 'summer coming',\n",
       " 'summer like',\n",
       " 'summer short']"
      ]
     },
     "execution_count": 12,
     "metadata": {},
     "output_type": "execute_result"
    }
   ],
   "source": [
    "vectorizer = CountVectorizer(analyzer=\"word\", stop_words='english', ngram_range=[2,2]) \n",
    "vectors = vectorizer.fit_transform(documents)\n",
    "vectorizer.get_feature_names()"
   ]
  },
  {
   "cell_type": "code",
   "execution_count": 13,
   "metadata": {},
   "outputs": [
    {
     "data": {
      "text/plain": [
       "array([[1, 0, 0, 0, 0, 1, 0, 1],\n",
       "       [0, 0, 1, 1, 0, 0, 1, 0],\n",
       "       [0, 1, 0, 1, 1, 0, 0, 0]], dtype=int64)"
      ]
     },
     "execution_count": 13,
     "metadata": {},
     "output_type": "execute_result"
    }
   ],
   "source": [
    "vectors.toarray()"
   ]
  },
  {
   "cell_type": "markdown",
   "metadata": {},
   "source": [
    "# Tf-idf vector representation"
   ]
  },
  {
   "cell_type": "markdown",
   "metadata": {},
   "source": [
    "Finally, we can also get a tf-idf vector representation using the class [TfidfVectorizer](http://scikit-learn.org/stable/modules/generated/sklearn.feature_extraction.text.TfidfVectorizer.html#sklearn.feature_extraction.text.TfidfVectorizer) instead of CountVectorizer."
   ]
  },
  {
   "cell_type": "code",
   "execution_count": 14,
   "metadata": {},
   "outputs": [
    {
     "data": {
      "text/plain": [
       "['coming', 'like', 'sandwiches', 'short', 'summer', 'winter']"
      ]
     },
     "execution_count": 14,
     "metadata": {},
     "output_type": "execute_result"
    }
   ],
   "source": [
    "from sklearn.feature_extraction.text import TfidfVectorizer\n",
    "\n",
    "vectorizer = TfidfVectorizer(analyzer=\"word\", stop_words='english')\n",
    "vectors = vectorizer.fit_transform(documents)\n",
    "vectorizer.get_feature_names()"
   ]
  },
  {
   "cell_type": "code",
   "execution_count": 15,
   "metadata": {},
   "outputs": [
    {
     "data": {
      "text/plain": [
       "array([[0.48148213, 0.        , 0.        , 0.48148213, 0.73235914,\n",
       "        0.        ],\n",
       "       [0.        , 0.81649658, 0.        , 0.        , 0.40824829,\n",
       "        0.40824829],\n",
       "       [0.        , 0.77100584, 0.50689001, 0.        , 0.        ,\n",
       "        0.38550292]])"
      ]
     },
     "execution_count": 15,
     "metadata": {},
     "output_type": "execute_result"
    }
   ],
   "source": [
    "vectors.toarray()"
   ]
  },
  {
   "cell_type": "markdown",
   "metadata": {},
   "source": [
    "We can now compute the similarity of a query and a set of documents as follows."
   ]
  },
  {
   "cell_type": "code",
   "execution_count": 16,
   "metadata": {},
   "outputs": [
    {
     "data": {
      "text/plain": [
       "['coming', 'like', 'sandwiches', 'short', 'summer', 'winter']"
      ]
     },
     "execution_count": 16,
     "metadata": {},
     "output_type": "execute_result"
    }
   ],
   "source": [
    "train = [doc1, doc2, doc3]\n",
    "vectorizer = TfidfVectorizer(analyzer=\"word\", stop_words='english')\n",
    "\n",
    "# We learn the vocabulary (fit) and tranform the docs into vectors\n",
    "vectors = vectorizer.fit_transform(train)\n",
    "vectorizer.get_feature_names()"
   ]
  },
  {
   "cell_type": "code",
   "execution_count": 17,
   "metadata": {},
   "outputs": [
    {
     "data": {
      "text/plain": [
       "array([[0.48148213, 0.        , 0.        , 0.48148213, 0.73235914,\n",
       "        0.        ],\n",
       "       [0.        , 0.81649658, 0.        , 0.        , 0.40824829,\n",
       "        0.40824829],\n",
       "       [0.        , 0.77100584, 0.50689001, 0.        , 0.        ,\n",
       "        0.38550292]])"
      ]
     },
     "execution_count": 17,
     "metadata": {},
     "output_type": "execute_result"
    }
   ],
   "source": [
    "vectors.toarray()"
   ]
  },
  {
   "cell_type": "markdown",
   "metadata": {},
   "source": [
    "Scikit-learn provides a method to calculate the cosine similarity between one vector and a set of vectors. Based on this, we can rank the similarity. In this case, the ranking for the query is [d1, d2, d3]."
   ]
  },
  {
   "cell_type": "code",
   "execution_count": 18,
   "metadata": {},
   "outputs": [
    {
     "data": {
      "text/plain": [
       "array([[0.38324078, 0.24713249, 0.23336362]])"
      ]
     },
     "execution_count": 18,
     "metadata": {},
     "output_type": "execute_result"
    }
   ],
   "source": [
    "from sklearn.metrics.pairwise import cosine_similarity\n",
    "\n",
    "query = ['winter short']\n",
    "\n",
    "# We transform the query into a vector of the learnt vocabulary\n",
    "vector_query = vectorizer.transform(query)\n",
    "\n",
    "# Here we calculate the distance of the query to the docs\n",
    "cosine_similarity(vector_query, vectors)"
   ]
  },
  {
   "cell_type": "markdown",
   "metadata": {},
   "source": [
    "The same result can be obtained with pairwise metrics (kernels in ML terminology) if we use the linear kernel."
   ]
  },
  {
   "cell_type": "code",
   "execution_count": 19,
   "metadata": {},
   "outputs": [
    {
     "data": {
      "text/plain": [
       "array([0.38324078, 0.24713249, 0.23336362])"
      ]
     },
     "execution_count": 19,
     "metadata": {},
     "output_type": "execute_result"
    }
   ],
   "source": [
    "from sklearn.metrics.pairwise import linear_kernel\n",
    "cosine_similarity = linear_kernel(vector_query, vectors).flatten()\n",
    "cosine_similarity"
   ]
  },
  {
   "cell_type": "markdown",
   "metadata": {},
   "source": [
    "## References\n",
    "\n"
   ]
  },
  {
   "cell_type": "markdown",
   "metadata": {},
   "source": [
    "* [Scikit-learn](http://scikit-learn.org/stable/datasets/twenty_newsgroups.html#converting-text-to-vectors) Scikit-learn Convert Text to Vectors"
   ]
  },
  {
   "cell_type": "markdown",
   "metadata": {},
   "source": [
    "## Licence"
   ]
  },
  {
   "cell_type": "markdown",
   "metadata": {},
   "source": [
    "The notebook is freely licensed under under the [Creative Commons Attribution Share-Alike license](https://creativecommons.org/licenses/by/2.0/).  \n",
    "\n",
    "© Carlos A. Iglesias, Universidad Politécnica de Madrid."
   ]
  }
 ],
 "metadata": {
  "interpreter": {
   "hash": "05d51072ca50ff3329d9df1e81eea5e1b49c1cf017763d22b1e40fabe6e552d0"
  },
  "kernelspec": {
   "display_name": "Python 3.6.13 ('Python3_6')",
   "language": "python",
   "name": "python3"
  },
  "language_info": {
   "codemirror_mode": {
    "name": "ipython",
    "version": 3
   },
   "file_extension": ".py",
   "mimetype": "text/x-python",
   "name": "python",
   "nbconvert_exporter": "python",
   "pygments_lexer": "ipython3",
   "version": "3.6.13"
  },
  "latex_envs": {
   "LaTeX_envs_menu_present": true,
   "autocomplete": true,
   "bibliofile": "biblio.bib",
   "cite_by": "apalike",
   "current_citInitial": 1,
   "eqLabelWithNumbers": true,
   "eqNumInitial": 1,
   "hotkeys": {
    "equation": "Ctrl-E",
    "itemize": "Ctrl-I"
   },
   "labels_anchors": false,
   "latex_user_defs": false,
   "report_style_numbering": false,
   "user_envs_cfg": false
  }
 },
 "nbformat": 4,
 "nbformat_minor": 1
}
